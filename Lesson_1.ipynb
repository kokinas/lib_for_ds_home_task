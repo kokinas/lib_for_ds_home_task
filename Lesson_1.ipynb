{
 "cells": [
  {
   "cell_type": "markdown",
   "id": "efab6e98",
   "metadata": {},
   "source": [
    "# Задание 1"
   ]
  },
  {
   "cell_type": "code",
   "execution_count": 34,
   "id": "7687c760",
   "metadata": {},
   "outputs": [],
   "source": [
    "import numpy as np"
   ]
  },
  {
   "cell_type": "code",
   "execution_count": 14,
   "id": "e7e828ef",
   "metadata": {},
   "outputs": [
    {
     "data": {
      "text/plain": [
       "array([[ 1,  6],\n",
       "       [ 2,  8],\n",
       "       [ 3, 11],\n",
       "       [ 3, 10],\n",
       "       [ 1,  7]])"
      ]
     },
     "execution_count": 14,
     "metadata": {},
     "output_type": "execute_result"
    }
   ],
   "source": [
    "a = np.array([[1, 6],\n",
    "            [2, 8],\n",
    "            [3, 11],\n",
    "            [3, 10],\n",
    "            [1, 7]])\n",
    "a"
   ]
  },
  {
   "cell_type": "code",
   "execution_count": 16,
   "id": "24cfd67f",
   "metadata": {},
   "outputs": [
    {
     "data": {
      "text/plain": [
       "array([2. , 8.4])"
      ]
     },
     "execution_count": 16,
     "metadata": {},
     "output_type": "execute_result"
    }
   ],
   "source": [
    "mean_a = a.mean(axis=0)\n",
    "mean_a"
   ]
  },
  {
   "cell_type": "markdown",
   "id": "bfe5b7ce",
   "metadata": {},
   "source": [
    "# Задание 2"
   ]
  },
  {
   "cell_type": "code",
   "execution_count": 18,
   "id": "1cbf589d",
   "metadata": {},
   "outputs": [
    {
     "data": {
      "text/plain": [
       "array([[-1. , -2.4],\n",
       "       [ 0. , -0.4],\n",
       "       [ 1. ,  2.6],\n",
       "       [ 1. ,  1.6],\n",
       "       [-1. , -1.4]])"
      ]
     },
     "execution_count": 18,
     "metadata": {},
     "output_type": "execute_result"
    }
   ],
   "source": [
    "a_centered = a - mean_a\n",
    "a_centered"
   ]
  },
  {
   "cell_type": "markdown",
   "id": "abaecb70",
   "metadata": {},
   "source": [
    "# Задание 3"
   ]
  },
  {
   "cell_type": "code",
   "execution_count": 30,
   "id": "c7f8fdad",
   "metadata": {},
   "outputs": [
    {
     "data": {
      "text/plain": [
       "2.0"
      ]
     },
     "execution_count": 30,
     "metadata": {},
     "output_type": "execute_result"
    }
   ],
   "source": [
    "a_centered_sp = np.dot(a_centered.T[0],a_centered.T[1])/4\n",
    "a_centered_sp"
   ]
  },
  {
   "cell_type": "markdown",
   "id": "3e90501d",
   "metadata": {},
   "source": [
    "# Задание 4"
   ]
  },
  {
   "cell_type": "code",
   "execution_count": 36,
   "id": "08a6d67b",
   "metadata": {},
   "outputs": [
    {
     "data": {
      "text/plain": [
       "2.0"
      ]
     },
     "execution_count": 36,
     "metadata": {},
     "output_type": "execute_result"
    }
   ],
   "source": [
    "a_centered_sp2 = np.cov(a.T)\n",
    "a_centered_sp2[0][1]"
   ]
  }
 ],
 "metadata": {
  "kernelspec": {
   "display_name": "Python 3 (ipykernel)",
   "language": "python",
   "name": "python3"
  },
  "language_info": {
   "codemirror_mode": {
    "name": "ipython",
    "version": 3
   },
   "file_extension": ".py",
   "mimetype": "text/x-python",
   "name": "python",
   "nbconvert_exporter": "python",
   "pygments_lexer": "ipython3",
   "version": "3.9.12"
  }
 },
 "nbformat": 4,
 "nbformat_minor": 5
}
